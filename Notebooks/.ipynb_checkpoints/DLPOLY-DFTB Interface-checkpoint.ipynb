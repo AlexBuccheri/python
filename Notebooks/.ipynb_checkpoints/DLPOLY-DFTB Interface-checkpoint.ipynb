{
 "cells": [
  {
   "cell_type": "markdown",
   "metadata": {},
   "source": [
    "# Compiling DLPOLY-DFTB+ On Blue Crystal 3\n",
    "\n",
    "\n",
    "## DFTB+\n",
    "\n",
    "**Add GCC Compilers, Blas, Lapack, MPI, Cmake and Git (in this order)**   \n",
    "module add languages/gcc-7.1.0  \n",
    "module add openmpi/gcc/64/2.1.1  \n",
    "module add blas/open64/64/1  \n",
    "module add lapack/gcc/64/3.4.0  \n",
    "module add libraries/gnu_builds/atlas-3.10.1  \n",
    "module add tools/cmake-3.8.1  \n",
    "module add tools/git-2.18.0  \n",
    "\n",
    "\n",
    "**Pull from my bitbucket**  \n",
    "git clone https://Alex_Buccheri@bitbucket.org/Alex_Buccheri/dftb.git\n",
    "\n",
    "**Set up own modules on BC3**   \n",
    "\n",
    "module add dftb/gcc-7.1.0/17.1\n",
    "\n",
    "\n",
    "**Build DFTB+ Library**  \n",
    "mkdir build-gcc\n",
    "cd build-gcc  \n",
    "FC=gfortran FFLAGS=\"-g3 -m64 -fcheck=all -fbacktrace -O3 -C\" cmake ../ -DCMAKE_INSTALL_PREFIX=$HOME/moduleapps/dftb/gcc-7.1.0/17.1  \n",
    "\n",
    "\n",
    "**Run my API Test**  \n",
    "cd $dftbp/api_tests/4.output_forces\n",
    "See ReadMe \n",
    "\n",
    "\n",
    "## Build DLPOLY \n",
    "\n",
    "**No MPI but DFTB**   \n",
    "mkdir build-dftb  \n",
    "cd build-dftb  \n",
    "FC=gfortran FFLAGS=\"-O3 -g -fbacktrace -fcheck=all -mtune=native\" cmake .. -DWITH_DFTBP=ON -DWITH_MPI=OFF  \n",
    "\n"
   ]
  },
  {
   "cell_type": "code",
   "execution_count": null,
   "metadata": {},
   "outputs": [],
   "source": []
  }
 ],
 "metadata": {
  "kernelspec": {
   "display_name": "Python 3",
   "language": "python",
   "name": "python3"
  },
  "language_info": {
   "codemirror_mode": {
    "name": "ipython",
    "version": 3
   },
   "file_extension": ".py",
   "mimetype": "text/x-python",
   "name": "python",
   "nbconvert_exporter": "python",
   "pygments_lexer": "ipython3",
   "version": "3.6.4"
  }
 },
 "nbformat": 4,
 "nbformat_minor": 2
}
