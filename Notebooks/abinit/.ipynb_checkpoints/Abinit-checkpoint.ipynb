{
 "cells": [
  {
   "cell_type": "markdown",
   "metadata": {},
   "source": [
    "# Getting Started with Abinit \n",
    "\n",
    "## Abinit\n",
    "\n",
    "\n",
    "## Tutorial 1\n",
    "-------------\n",
    "https://www.abinit.org/sites/default/files/infos/8.0/tutorial/lesson_base1.html\n",
    "https://www.abinit.org/sites/default/files/infos/8.0/users/abinit_help.html#intro1\n",
    "\n",
    "~/codes/clean/abinit-8.8.3/tests/tutorial/Input/work\n",
    "Created an alias for the abinit executable 'abinit'\n",
    "\n",
    "\n",
    "## File Structure\n",
    "'files' file, containing a list of files required for abinit to run:  \n",
    "    ab_in     \t#Input    \n",
    "    ab_out\t\t#Output    \n",
    "    abi\t\t\t#Input wave functions (optional)  \n",
    "    abo\t\t\t#Output wave functions   \n",
    "    tmp\t\t\t#Temporary files   \n",
    "    14si.psp\t#Pseudopotentials  \n",
    "\n",
    "\n",
    "ABINIT won't run. Issue with linking to dynamic library  \n",
    "\n",
    "abinit/doc/config/build-examples\n"
   ]
  },
  {
   "cell_type": "markdown",
   "metadata": {},
   "source": []
  }
 ],
 "metadata": {
  "kernelspec": {
   "display_name": "Python 3",
   "language": "python",
   "name": "python3"
  },
  "language_info": {
   "codemirror_mode": {
    "name": "ipython",
    "version": 3
   },
   "file_extension": ".py",
   "mimetype": "text/x-python",
   "name": "python",
   "nbconvert_exporter": "python",
   "pygments_lexer": "ipython3",
   "version": "3.6.4"
  }
 },
 "nbformat": 4,
 "nbformat_minor": 2
}
