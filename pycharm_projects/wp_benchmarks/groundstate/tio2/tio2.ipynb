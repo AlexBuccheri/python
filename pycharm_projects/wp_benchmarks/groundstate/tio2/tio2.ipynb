{
 "cells": [
  {
   "cell_type": "markdown",
   "metadata": {
    "collapsed": true,
    "pycharm": {
     "name": "#%% md\n"
    }
   },
   "source": [
    "# Ground State TiO2 Rutile\n"
   ]
  },
  {
   "cell_type": "code",
   "execution_count": 2,
   "outputs": [
    {
     "name": "stdout",
     "output_type": "stream",
     "text": [
      "Minimum bond length between atomic numbers (8, 8): 4.817723852344791\n",
      "Minimum bond length between atomic numbers (8, 22): 3.6902252091752974\n",
      "For each bond, compute the MT radius associated with the element with the smallest MT radius. \n",
      "Do this for each bond, and choose the minimum.\n",
      "[2.4089, 1.6974]\n",
      "Smallest muffin tin radius for element 8 is 1.6974, scaled by 1.0\n",
      "Use this to determine the MT radii for all other elements in the system, with optimal ratio \n",
      "determined by tabulated rkgmax ratios\n",
      "Atomic Number 8, MT radius 1.6974, sum of MT radii 3.3948, min_bond_length 4.817723852344791\n",
      "Atomic Number 22, MT radius 1.9927838789853467, sum of MT radii 3.690183878985347, min_bond_length 3.6902252091752974\n"
     ]
    }
   ],
   "source": [
    "# Give some estimate for MT radii, maintaining a consistent ratio between T and O\n",
    "from src.materials import TiO2Rutile\n",
    "from src.optimal_muffin_tins import main\n",
    "\n",
    "# TiO2 lattice should be in Bohr => MT suggestions will be the same units\n",
    "# From  a cif file, I found the minimum bond length to be 1.96414 Å ~ 3.7117 Bohr\n",
    "# Assuming the bond lengths in this file are slightly different, then my code found the correct bond.\n",
    "main(TiO2Rutile, scaling_factor=1.0)"
   ],
   "metadata": {
    "collapsed": false,
    "pycharm": {
     "name": "#%%\n"
    }
   }
  },
  {
   "cell_type": "markdown",
   "source": [
    "### Muffin Tin Radii\n",
    "\n",
    "Starting point for MY radii (almost touching):\n",
    "* oxygen = 1.70\n",
    "* titanium = 1.99"
   ],
   "metadata": {
    "collapsed": false,
    "pycharm": {
     "name": "#%% md\n"
    }
   }
  },
  {
   "cell_type": "markdown",
   "source": [
    "# Input XML\n",
    "\n",
    "```xml\n",
    "<?xml version=\"1.0\" encoding=\"utf-8\"?>\n",
    "<input>\n",
    "\n",
    "   <title>to2-rutile-PBEsol</title>\n",
    "\n",
    "   <structure speciespath=\".\">\n",
    "      <crystal  scale=\"1.000\">\n",
    "         <basevect>8.680645000000  0.000000000000  0.000000000000</basevect>\n",
    "         <basevect>0.000000000000  8.680645000000  0.000000000000</basevect>\n",
    "         <basevect>0.000000000000  0.000000000000  5.591116638050</basevect>\n",
    "      </crystal>\n",
    "\n",
    "      <species speciesfile=\"Ti.xml\" rmt=\"1.99\">\n",
    "        <atom coord=\"0.000000000  0.000000000  0.000000000\"></atom>\n",
    "\t    <atom coord=\"0.500000000  0.500000000  0.500000000\"></atom>\n",
    "      </species>\n",
    "\n",
    "      <species speciesfile=\"O.xml\" rmt=\"1.70\">\n",
    "\t    <atom coord=\"0.303779258  0.303779258  0.000000000\"></atom>\n",
    "        <atom coord=\"0.696220742  0.696220742  0.000000000\"></atom>\n",
    "        <atom coord=\"0.803779258  0.196220742  0.500000000\"></atom>\n",
    "        <atom coord=\"0.196220742  0.803779258  0.500000000\"></atom>\n",
    "      </species>\n",
    "   </structure>\n",
    "\n",
    "   <groundstate\n",
    "      do=\"fromscratch\"\n",
    "      rgkmax=\"8.0\"            # Reasonably-converged\n",
    "      ngridk=\"8 8 8\"          # Converged\n",
    "      xctype=\"GGA_PBE_SOL\"\n",
    "      epsengy=\"1.e-6\"\n",
    "      gmaxvr=\"24.0\"\n",
    "      >\n",
    "   </groundstate>\n",
    "\n",
    "   <properties>\n",
    "    <chargedensityplot>\n",
    "    <plot1d>\n",
    "    <path steps=\"100\">\n",
    "               <point coord=\"0.00 0.00 0.00\"/>\n",
    "               <point coord=\"0.303779258  0.303779258  0.000000000\"/>  # Infered from Vesta - should improve the script\n",
    "    </path>\n",
    "    </plot1d>\n",
    "    </chargedensityplot>\n",
    "   </properties>\n",
    "\n",
    "</input>\n",
    "```"
   ],
   "metadata": {
    "collapsed": false,
    "pycharm": {
     "name": "#%% md\n"
    }
   }
  },
  {
   "cell_type": "markdown",
   "source": [
    "# Species Files\n",
    "\n",
    "Use the optimised O.xml from ZrO2 calculations and for Ti:\n",
    "\n",
    "```xml\n",
    "\n",
    "<?xml version=\"1.0\" encoding=\"UTF-8\"?>\n",
    "<spdb xsi:noNamespaceSchemaLocation=\"../../xml/species.xsd\" xmlns:xsi=\"http://www.w3.org/2001/XMLSchema-instance\">\n",
    "  <sp chemicalSymbol=\"O\" name=\"oxygen\" z=\"-8.00000\" mass=\"29165.12203\">\n",
    "    <muffinTin rmin=\"0.100000E-05\" radius=\"1.4500\" rinf=\"17.0873\" radialmeshPoints=\"600\"/>\n",
    "    <atomicState n=\"1\" l=\"0\" kappa=\"1\" occ=\"2.00000\" core=\"true\"/>\n",
    "    <atomicState n=\"2\" l=\"0\" kappa=\"1\" occ=\"2.00000\" core=\"false\"/>\n",
    "    <atomicState n=\"2\" l=\"1\" kappa=\"1\" occ=\"2.00000\" core=\"false\"/>\n",
    "    <atomicState n=\"2\" l=\"1\" kappa=\"2\" occ=\"2.00000\" core=\"false\"/>\n",
    "    <basis>\n",
    "      <default type=\"lapw\" trialEnergy=\"0.1500\" searchE=\"false\"/>\n",
    "\n",
    "      <custom l=\"0\" type=\"lapw\" trialEnergy=\"0.1500\" searchE=\"true\"/>\n",
    "      <lo l=\"0\">\n",
    "        <wf matchingOrder=\"0\" trialEnergy=\"-0.5\" searchE=\"true\"/>\n",
    "        <wf matchingOrder=\"1\" trialEnergy=\"-0.5\" searchE=\"true\"/>\n",
    "      </lo>\n",
    "      <lo l=\"0\">\n",
    "        <wf matchingOrder=\"1\" trialEnergy=\"-0.5\" searchE=\"true\"/>\n",
    "        <wf matchingOrder=\"2\" trialEnergy=\"-0.5\" searchE=\"true\"/>\n",
    "      </lo>\n",
    "\n",
    "      <custom l=\"1\" type=\"lapw\" trialEnergy=\"0.1\" searchE=\"true\"/>\n",
    "      <lo l=\"1\">\n",
    "        <wf matchingOrder=\"0\" trialEnergy=\"0.1\" searchE=\"true\"/>\n",
    "        <wf matchingOrder=\"1\" trialEnergy=\"0.1\" searchE=\"true\"/>\n",
    "      </lo>\n",
    "      <lo l=\"1\">\n",
    "        <wf matchingOrder=\"1\" trialEnergy=\"0.1\" searchE=\"true\"/>\n",
    "        <wf matchingOrder=\"2\" trialEnergy=\"0.1\" searchE=\"true\"/>\n",
    "      </lo>\n",
    "\n",
    "      <custom l=\"2\" type=\"lapw\" trialEnergy=\"1.0\" searchE=\"true\"/>\n",
    "      <lo l=\"2\">\n",
    "        <wf matchingOrder=\"0\" trialEnergy=\"1.0\" searchE=\"true\"/>\n",
    "        <wf matchingOrder=\"1\" trialEnergy=\"1.0\" searchE=\"true\"/>\n",
    "      </lo>\n",
    "\n",
    "      <lo l=\"2\">\n",
    "        <wf matchingOrder=\"1\" trialEnergy=\"1.0\" searchE=\"true\"/>\n",
    "        <wf matchingOrder=\"2\" trialEnergy=\"1.0\" searchE=\"true\"/>\n",
    "      </lo>\n",
    "\n",
    "      <custom l=\"3\" type=\"lapw\" trialEnergy=\"1.0\" searchE=\"true\"/>\n",
    "      <lo l=\"3\">\n",
    "        <wf matchingOrder=\"0\" trialEnergy=\"1.0\" searchE=\"true\"/>\n",
    "        <wf matchingOrder=\"1\" trialEnergy=\"1.0\" searchE=\"true\"/>\n",
    "      </lo>\n",
    "\n",
    "      <lo l=\"3\">\n",
    "        <wf matchingOrder=\"1\" trialEnergy=\"1.0\" searchE=\"true\"/>\n",
    "        <wf matchingOrder=\"2\" trialEnergy=\"1.0\" searchE=\"true\"/>\n",
    "      </lo>\n",
    "\n",
    "      <custom l=\"4\" type=\"lapw\" trialEnergy=\"1.0\" searchE=\"true\"/>\n",
    "      <lo l=\"4\">\n",
    "        <wf matchingOrder=\"0\" trialEnergy=\"1.0\" searchE=\"true\"/>\n",
    "        <wf matchingOrder=\"1\" trialEnergy=\"1.0\" searchE=\"true\"/>\n",
    "      </lo>\n",
    "\n",
    "      <lo l=\"4\">\n",
    "        <wf matchingOrder=\"1\" trialEnergy=\"1.0\" searchE=\"true\"/>\n",
    "        <wf matchingOrder=\"2\" trialEnergy=\"1.0\" searchE=\"true\"/>\n",
    "      </lo>\n",
    "\n",
    "      <custom l=\"5\" type=\"lapw\" trialEnergy=\"1.0\" searchE=\"true\"/>\n",
    "      <lo l=\"5\">\n",
    "        <wf matchingOrder=\"0\" trialEnergy=\"1.0\" searchE=\"true\"/>\n",
    "        <wf matchingOrder=\"1\" trialEnergy=\"1.0\" searchE=\"true\"/>\n",
    "      </lo>\n",
    "\n",
    "      <lo l=\"5\">\n",
    "        <wf matchingOrder=\"1\" trialEnergy=\"1.0\" searchE=\"true\"/>\n",
    "        <wf matchingOrder=\"2\" trialEnergy=\"1.0\" searchE=\"true\"/>\n",
    "      </lo>\n",
    "\n",
    "    </basis>\n",
    "  </sp>\n",
    "</spdb>\n",
    "\n",
    "<?xml version=\"1.0\" encoding=\"UTF-8\"?>\n",
    "<spdb xsi:noNamespaceSchemaLocation=\"../../xml/species.xsd\" xmlns:xsi=\"http://www.w3.org/2001/XMLSchema-instance\">\n",
    "  <sp chemicalSymbol=\"Ti\" name=\"titanium\" z=\"-22.0000\" mass=\"87256.20311\">\n",
    "    <muffinTin rmin=\"0.100000E-04\" radius=\"2.0000\" rinf=\"25.7965\" radialmeshPoints=\"350\"/>\n",
    "    <atomicState n=\"1\" l=\"0\" kappa=\"1\" occ=\"2.00000\" core=\"true\"/>\n",
    "    <atomicState n=\"2\" l=\"0\" kappa=\"1\" occ=\"2.00000\" core=\"true\"/>\n",
    "    <atomicState n=\"2\" l=\"1\" kappa=\"1\" occ=\"2.00000\" core=\"true\"/>\n",
    "    <atomicState n=\"2\" l=\"1\" kappa=\"2\" occ=\"4.00000\" core=\"true\"/>\n",
    "    <atomicState n=\"3\" l=\"0\" kappa=\"1\" occ=\"2.00000\" core=\"false\"/>\n",
    "    <atomicState n=\"3\" l=\"1\" kappa=\"1\" occ=\"2.00000\" core=\"false\"/>\n",
    "    <atomicState n=\"3\" l=\"1\" kappa=\"2\" occ=\"4.00000\" core=\"false\"/>\n",
    "    <atomicState n=\"3\" l=\"2\" kappa=\"2\" occ=\"2.00000\" core=\"false\"/>\n",
    "    <atomicState n=\"4\" l=\"0\" kappa=\"1\" occ=\"2.00000\" core=\"false\"/>\n",
    "    <basis>\n",
    "      <default type=\"lapw\" trialEnergy=\"0.1500\" searchE=\"false\"/>\n",
    "\n",
    "      <custom l=\"0\" type=\"lapw\" trialEnergy=\"0.1500\" searchE=\"true\"/>\n",
    "      <lo l=\"0\">\n",
    "        <wf matchingOrder=\"0\" trialEnergy=\"-0.5\" searchE=\"true\"/>\n",
    "        <wf matchingOrder=\"1\" trialEnergy=\"-0.5\" searchE=\"true\"/>\n",
    "      </lo>\n",
    "      <lo l=\"0\">\n",
    "        <wf matchingOrder=\"1\" trialEnergy=\"-0.5\" searchE=\"true\"/>\n",
    "        <wf matchingOrder=\"2\" trialEnergy=\"-0.5\" searchE=\"true\"/>\n",
    "      </lo>\n",
    "\n",
    "      <custom l=\"1\" type=\"lapw\" trialEnergy=\"0.1\" searchE=\"true\"/>\n",
    "      <lo l=\"1\">\n",
    "        <wf matchingOrder=\"0\" trialEnergy=\"0.1\" searchE=\"true\"/>\n",
    "        <wf matchingOrder=\"1\" trialEnergy=\"0.1\" searchE=\"true\"/>\n",
    "      </lo>\n",
    "      <lo l=\"1\">\n",
    "        <wf matchingOrder=\"1\" trialEnergy=\"0.1\" searchE=\"true\"/>\n",
    "        <wf matchingOrder=\"2\" trialEnergy=\"0.1\" searchE=\"true\"/>\n",
    "      </lo>\n",
    "\n",
    "      <custom l=\"2\" type=\"lapw\" trialEnergy=\"1.0\" searchE=\"true\"/>\n",
    "      <lo l=\"2\">\n",
    "        <wf matchingOrder=\"0\" trialEnergy=\"1.0\" searchE=\"true\"/>\n",
    "        <wf matchingOrder=\"1\" trialEnergy=\"1.0\" searchE=\"true\"/>\n",
    "      </lo>\n",
    "      <lo l=\"2\">\n",
    "        <wf matchingOrder=\"1\" trialEnergy=\"1.0\" searchE=\"true\"/>\n",
    "        <wf matchingOrder=\"2\" trialEnergy=\"1.0\" searchE=\"true\"/>\n",
    "      </lo>\n",
    "\n",
    "      <custom l=\"3\" type=\"lapw\" trialEnergy=\"1.0\" searchE=\"true\"/>\n",
    "      <lo l=\"3\">\n",
    "        <wf matchingOrder=\"0\" trialEnergy=\"1.0\" searchE=\"true\"/>\n",
    "        <wf matchingOrder=\"1\" trialEnergy=\"1.0\" searchE=\"true\"/>\n",
    "      </lo>\n",
    "      <lo l=\"3\">\n",
    "        <wf matchingOrder=\"1\" trialEnergy=\"1.0\" searchE=\"true\"/>\n",
    "        <wf matchingOrder=\"2\" trialEnergy=\"1.0\" searchE=\"true\"/>\n",
    "      </lo>\n",
    "\n",
    "      <custom l=\"4\" type=\"lapw\" trialEnergy=\"1.0\" searchE=\"true\"/>\n",
    "      <lo l=\"4\">\n",
    "        <wf matchingOrder=\"0\" trialEnergy=\"1.0\" searchE=\"true\"/>\n",
    "        <wf matchingOrder=\"1\" trialEnergy=\"1.0\" searchE=\"true\"/>\n",
    "      </lo>\n",
    "      <lo l=\"4\">\n",
    "        <wf matchingOrder=\"1\" trialEnergy=\"1.0\" searchE=\"true\"/>\n",
    "        <wf matchingOrder=\"2\" trialEnergy=\"1.0\" searchE=\"true\"/>\n",
    "      </lo>\n",
    "\n",
    "      <custom l=\"5\" type=\"lapw\" trialEnergy=\"1.0\" searchE=\"true\"/>\n",
    "      <lo l=\"5\">\n",
    "        <wf matchingOrder=\"0\" trialEnergy=\"1.0\" searchE=\"true\"/>\n",
    "        <wf matchingOrder=\"1\" trialEnergy=\"1.0\" searchE=\"true\"/>\n",
    "      </lo>\n",
    "      <lo l=\"5\">\n",
    "        <wf matchingOrder=\"1\" trialEnergy=\"1.0\" searchE=\"true\"/>\n",
    "        <wf matchingOrder=\"2\" trialEnergy=\"1.0\" searchE=\"true\"/>\n",
    "      </lo>\n",
    "\n",
    "      <custom l=\"6\" type=\"lapw\" trialEnergy=\"1.00\" searchE=\"true\"/>\n",
    "      <lo l=\"6\">\n",
    "        <wf matchingOrder=\"0\" trialEnergy=\"1.00\" searchE=\"true\"/>\n",
    "        <wf matchingOrder=\"1\" trialEnergy=\"1.00\" searchE=\"true\"/>\n",
    "      </lo>\n",
    "      <lo l=\"6\">\n",
    "        <wf matchingOrder=\"1\" trialEnergy=\"1.00\" searchE=\"true\"/>\n",
    "        <wf matchingOrder=\"2\" trialEnergy=\"1.00\" searchE=\"true\"/>\n",
    "      </lo>\n",
    "    </basis>\n",
    "  </sp>\n",
    "</spdb>\n",
    "```"
   ],
   "metadata": {
    "collapsed": false,
    "pycharm": {
     "name": "#%% md\n"
    }
   }
  },
  {
   "cell_type": "code",
   "execution_count": 4,
   "outputs": [
    {
     "name": "stdout",
     "output_type": "stream",
     "text": [
      "Radial position where the charge density is a minimum: 1.883475262 bohr\n"
     ]
    },
    {
     "data": {
      "text/plain": "<Figure size 432x288 with 1 Axes>",
      "image/png": "[encoded data removed]"
     },
     "metadata": {
      "needs_background": "light"
     },
     "output_type": "display_data"
    }
   ],
   "source": [
    "### Point at Which 1D Charge Density is a Minimum\n",
    "import numpy as np\n",
    "import matplotlib.pyplot as plt\n",
    "from src.parsers import extract_charge_density\n",
    "\n",
    "x, y = extract_charge_density('RHO1D.xml')\n",
    "index = np.argmin(y)\n",
    "\n",
    "print(f\"Radial position where the charge density is a minimum: {x[index]} bohr\")\n",
    "\n",
    "plt.xlabel(\"Distance (Bohr)\")\n",
    "plt.ylabel(\"Charge Density (AU)\")\n",
    "# Ignore close to the atoms as the density is so large\n",
    "plt.plot(x[2:-2], y[2:-2])\n",
    "plt.show()"
   ],
   "metadata": {
    "collapsed": false,
    "pycharm": {
     "name": "#%%\n"
    }
   }
  },
  {
   "cell_type": "code",
   "execution_count": null,
   "outputs": [],
   "source": [],
   "metadata": {
    "collapsed": false,
    "pycharm": {
     "name": "#%%\n"
    }
   }
  },
  {
   "cell_type": "markdown",
   "source": [
    "### Output Using the Above Settings\n",
    "```\n",
    "++++++++++++++++++++++++++++++++++++++++++++++++++++++++++++++++++++++++++++++++\n",
    "+ SCF iteration number :   16                                                  +\n",
    "++++++++++++++++++++++++++++++++++++++++++++++++++++++++++++++++++++++++++++++++\n",
    " Total energy                               :     -2006.16903162\n",
    " _______________________________________________________________\n",
    " Fermi energy                               :         0.22361844\n",
    " Kinetic energy                             :      2020.59576022\n",
    " Coulomb energy                             :     -3911.20689868\n",
    " Exchange energy                            :      -112.06726918\n",
    " Correlation energy                         :        -3.49062399\n",
    "\n",
    " DOS at Fermi energy (states/Ha/cell)       :         0.00000000\n",
    "\n",
    " Electron charges :\n",
    "     core                                   :        28.00000000\n",
    "     core leakage                           :         0.00000027\n",
    "```"
   ],
   "metadata": {
    "collapsed": false,
    "pycharm": {
     "name": "#%% md\n"
    }
   }
  },
  {
   "cell_type": "code",
   "execution_count": 4,
   "outputs": [
    {
     "name": "stdout",
     "output_type": "stream",
     "text": [
      "MT of oxygen = 1.533191848960389\n"
     ]
    }
   ],
   "source": [
    "from src.optimal_muffin_tins import fixed_precision_rgkmax\n",
    "\n",
    "notes = \"\"\"\n",
    "A conversation with Andris confirms that if the charge density minimum is within the MT centred at 0 in the plot (in this case, Ti)\n",
    "then that MT's radius should be reduced to the charge density minimum.\n",
    "\n",
    "\"Set Ti's MT to 1.88, and use this to pin all others in the system (oxygen), with optimal ratio determined by tabulated rkgmax ratios.\n",
    "\n",
    "mt_y / mt_min = fixed_precision_rgkmax(an_y) / fixed_precision_rgkmax(an_min)\n",
    "    such that\n",
    "mt_min = (fixed_precision_rgkmax(an_min) /  mt_min = fixed_precision_rgkmax(an_y)) * mt_y\n",
    "\"\"\"\n",
    "\n",
    "# Some value < charge minimum\n",
    "mt_ti = 1.80\n",
    "mt_min = (fixed_precision_rgkmax(8) /  fixed_precision_rgkmax(22)) * mt_ti\n",
    "# MT of oxygen = 1.533191848960389\n",
    "print(f\"MT of oxygen = {mt_min}\")\n"
   ],
   "metadata": {
    "collapsed": false,
    "pycharm": {
     "name": "#%%\n"
    }
   }
  },
  {
   "cell_type": "markdown",
   "source": [
    "## Second input file following Projected Charge Analysis\n",
    "\n",
    "```\n",
    "<?xml version=\"1.0\" encoding=\"utf-8\"?>\n",
    "<input>\n",
    "\n",
    "   <title>to2-rutile-PBEsol</title>\n",
    "\n",
    "   <structure speciespath=\".\">\n",
    "      <crystal  scale=\"1.000\">\n",
    "         <basevect>8.680645000000  0.000000000000  0.000000000000</basevect>\n",
    "         <basevect>0.000000000000  8.680645000000  0.000000000000</basevect>\n",
    "         <basevect>0.000000000000  0.000000000000  5.591116638050</basevect>\n",
    "      </crystal>\n",
    "\n",
    "      <species speciesfile=\"Ti.xml\" rmt=\"1.80\">\n",
    "        <atom coord=\"0.000000000  0.000000000  0.000000000\"></atom>\n",
    "\t    <atom coord=\"0.500000000  0.500000000  0.500000000\"></atom>\n",
    "      </species>\n",
    "\n",
    "      <species speciesfile=\"O.xml\" rmt=\"1.50\">\n",
    "\t    <atom coord=\"0.303779258  0.303779258  0.000000000\"></atom>\n",
    "        <atom coord=\"0.696220742  0.696220742  0.000000000\"></atom>\n",
    "        <atom coord=\"0.803779258  0.196220742  0.500000000\"></atom>\n",
    "        <atom coord=\"0.196220742  0.803779258  0.500000000\"></atom>\n",
    "      </species>\n",
    "   </structure>\n",
    "\n",
    "   <groundstate\n",
    "      do=\"fromscratch\"\n",
    "      rgkmax=\"8.0\"\n",
    "      ngridk=\"8 8 8\"\n",
    "      xctype=\"GGA_PBE_SOL\"\n",
    "      epsengy=\"1.e-6\"\n",
    "      gmaxvr=\"24.0\"\n",
    "      >\n",
    "   </groundstate>\n",
    "\n",
    "   <properties>\n",
    "    <chargedensityplot>\n",
    "    <plot1d>\n",
    "    <path steps=\"100\">\n",
    "               <point coord=\"0.00 0.00 0.00\"/>\n",
    "               <point coord=\"0.303779258  0.303779258  0.000000000\"/>\n",
    "    </path>\n",
    "    </plot1d>\n",
    "    </chargedensityplot>\n",
    "   </properties>\n",
    "\n",
    "</input>\n",
    "```\n",
    "\n",
    "## Second Species files\n",
    "\n",
    "* O: No change.\n",
    "* Ti: Reduce rmin from 0.1e-4 to 0.1-5, and increase the radial mesh from 350 points to 600 points.\n",
    "\n",
    "```xml\n",
    "<?xml version=\"1.0\" encoding=\"UTF-8\"?>\n",
    "<spdb xsi:noNamespaceSchemaLocation=\"../../xml/species.xsd\" xmlns:xsi=\"http://www.w3.org/2001/XMLSchema-instance\">\n",
    "  <sp chemicalSymbol=\"Ti\" name=\"titanium\" z=\"-22.0000\" mass=\"87256.20311\">\n",
    "    <muffinTin rmin=\"0.100000E-05\" radius=\"2.0000\" rinf=\"25.7965\" radialmeshPoints=\"600\"/>\n",
    "    <atomicState n=\"1\" l=\"0\" kappa=\"1\" occ=\"2.00000\" core=\"true\"/>\n",
    "    <atomicState n=\"2\" l=\"0\" kappa=\"1\" occ=\"2.00000\" core=\"true\"/>\n",
    "    <atomicState n=\"2\" l=\"1\" kappa=\"1\" occ=\"2.00000\" core=\"true\"/>\n",
    "    <atomicState n=\"2\" l=\"1\" kappa=\"2\" occ=\"4.00000\" core=\"true\"/>\n",
    "    <atomicState n=\"3\" l=\"0\" kappa=\"1\" occ=\"2.00000\" core=\"false\"/>\n",
    "    <atomicState n=\"3\" l=\"1\" kappa=\"1\" occ=\"2.00000\" core=\"false\"/>\n",
    "    <atomicState n=\"3\" l=\"1\" kappa=\"2\" occ=\"4.00000\" core=\"false\"/>\n",
    "    <atomicState n=\"3\" l=\"2\" kappa=\"2\" occ=\"2.00000\" core=\"false\"/>\n",
    "    <atomicState n=\"4\" l=\"0\" kappa=\"1\" occ=\"2.00000\" core=\"false\"/>\n",
    "    <basis>\n",
    "      <default type=\"lapw\" trialEnergy=\"0.1500\" searchE=\"false\"/>\n",
    "\n",
    "      <custom l=\"0\" type=\"lapw\" trialEnergy=\"0.1500\" searchE=\"true\"/>\n",
    "      <lo l=\"0\">\n",
    "        <wf matchingOrder=\"0\" trialEnergy=\"-0.5\" searchE=\"true\"/>\n",
    "        <wf matchingOrder=\"1\" trialEnergy=\"-0.5\" searchE=\"true\"/>\n",
    "      </lo>\n",
    "      <lo l=\"0\">\n",
    "        <wf matchingOrder=\"1\" trialEnergy=\"-0.5\" searchE=\"true\"/>\n",
    "        <wf matchingOrder=\"2\" trialEnergy=\"-0.5\" searchE=\"true\"/>\n",
    "      </lo>\n",
    "\n",
    "      <custom l=\"1\" type=\"lapw\" trialEnergy=\"0.1\" searchE=\"true\"/>\n",
    "      <lo l=\"1\">\n",
    "        <wf matchingOrder=\"0\" trialEnergy=\"0.1\" searchE=\"true\"/>\n",
    "        <wf matchingOrder=\"1\" trialEnergy=\"0.1\" searchE=\"true\"/>\n",
    "      </lo>\n",
    "      <lo l=\"1\">\n",
    "        <wf matchingOrder=\"1\" trialEnergy=\"0.1\" searchE=\"true\"/>\n",
    "        <wf matchingOrder=\"2\" trialEnergy=\"0.1\" searchE=\"true\"/>\n",
    "      </lo>\n",
    "\n",
    "      <custom l=\"2\" type=\"lapw\" trialEnergy=\"1.0\" searchE=\"true\"/>\n",
    "      <lo l=\"2\">\n",
    "        <wf matchingOrder=\"0\" trialEnergy=\"1.0\" searchE=\"true\"/>\n",
    "        <wf matchingOrder=\"1\" trialEnergy=\"1.0\" searchE=\"true\"/>\n",
    "      </lo>\n",
    "      <lo l=\"2\">\n",
    "        <wf matchingOrder=\"1\" trialEnergy=\"1.0\" searchE=\"true\"/>\n",
    "        <wf matchingOrder=\"2\" trialEnergy=\"1.0\" searchE=\"true\"/>\n",
    "      </lo>\n",
    "\n",
    "      <custom l=\"3\" type=\"lapw\" trialEnergy=\"1.0\" searchE=\"true\"/>\n",
    "      <lo l=\"3\">\n",
    "        <wf matchingOrder=\"0\" trialEnergy=\"1.0\" searchE=\"true\"/>\n",
    "        <wf matchingOrder=\"1\" trialEnergy=\"1.0\" searchE=\"true\"/>\n",
    "      </lo>\n",
    "      <lo l=\"3\">\n",
    "        <wf matchingOrder=\"1\" trialEnergy=\"1.0\" searchE=\"true\"/>\n",
    "        <wf matchingOrder=\"2\" trialEnergy=\"1.0\" searchE=\"true\"/>\n",
    "      </lo>\n",
    "\n",
    "      <custom l=\"4\" type=\"lapw\" trialEnergy=\"1.0\" searchE=\"true\"/>\n",
    "      <lo l=\"4\">\n",
    "        <wf matchingOrder=\"0\" trialEnergy=\"1.0\" searchE=\"true\"/>\n",
    "        <wf matchingOrder=\"1\" trialEnergy=\"1.0\" searchE=\"true\"/>\n",
    "      </lo>\n",
    "      <lo l=\"4\">\n",
    "        <wf matchingOrder=\"1\" trialEnergy=\"1.0\" searchE=\"true\"/>\n",
    "        <wf matchingOrder=\"2\" trialEnergy=\"1.0\" searchE=\"true\"/>\n",
    "      </lo>\n",
    "\n",
    "      <custom l=\"5\" type=\"lapw\" trialEnergy=\"1.0\" searchE=\"true\"/>\n",
    "      <lo l=\"5\">\n",
    "        <wf matchingOrder=\"0\" trialEnergy=\"1.0\" searchE=\"true\"/>\n",
    "        <wf matchingOrder=\"1\" trialEnergy=\"1.0\" searchE=\"true\"/>\n",
    "      </lo>\n",
    "      <lo l=\"5\">\n",
    "        <wf matchingOrder=\"1\" trialEnergy=\"1.0\" searchE=\"true\"/>\n",
    "        <wf matchingOrder=\"2\" trialEnergy=\"1.0\" searchE=\"true\"/>\n",
    "      </lo>\n",
    "\n",
    "      <custom l=\"6\" type=\"lapw\" trialEnergy=\"1.00\" searchE=\"true\"/>\n",
    "      <lo l=\"6\">\n",
    "        <wf matchingOrder=\"0\" trialEnergy=\"1.00\" searchE=\"true\"/>\n",
    "        <wf matchingOrder=\"1\" trialEnergy=\"1.00\" searchE=\"true\"/>\n",
    "      </lo>\n",
    "      <lo l=\"6\">\n",
    "        <wf matchingOrder=\"1\" trialEnergy=\"1.00\" searchE=\"true\"/>\n",
    "        <wf matchingOrder=\"2\" trialEnergy=\"1.00\" searchE=\"true\"/>\n",
    "      </lo>\n",
    "    </basis>\n",
    "  </sp>\n",
    "</spdb>\n",
    "```"
   ],
   "metadata": {
    "collapsed": false,
    "pycharm": {
     "name": "#%% md\n"
    }
   }
  },
  {
   "cell_type": "markdown",
   "source": [],
   "metadata": {
    "collapsed": false,
    "pycharm": {
     "name": "#%% md\n"
    }
   }
  },
  {
   "cell_type": "markdown",
   "source": [
    "This has had some effect on the total energy, but not dramatic\n",
    "```\n",
    "++++++++++++++++++++++++++++++++++++++++++++++++++++++++++++++++++++++++++++++++\n",
    "+ SCF iteration number :   15                                                  +\n",
    "++++++++++++++++++++++++++++++++++++++++++++++++++++++++++++++++++++++++++++++++\n",
    " Total energy                               :     -2006.16368941\n",
    " _______________________________________________________________\n",
    " Fermi energy                               :         0.25223143\n",
    " Kinetic energy                             :      2020.43267207\n",
    " Coulomb energy                             :     -3911.03916101\n",
    " Exchange energy                            :      -112.06638969\n",
    " Correlation energy                         :        -3.49081078\n",
    "\n",
    " DOS at Fermi energy (states/Ha/cell)       :         0.00000000\n",
    "\n",
    " Electron charges :\n",
    "     core                                   :        28.00000000\n",
    "     core leakage                           :         0.00000264\n",
    "     valence                                :        48.00000000\n",
    "     interstitial                           :        10.74746234\n",
    "\n",
    "  Estimated fundamental gap                  :         0.06622897\n",
    "        valence-band maximum at    1      0.0000  0.0000  0.0000\n",
    "     conduction-band minimum at    1      0.0000  0.0000  0.0000\n",
    "```\n"
   ],
   "metadata": {
    "collapsed": false,
    "pycharm": {
     "name": "#%% md\n"
    }
   }
  },
  {
   "cell_type": "markdown",
   "source": [
    "### Third species file for Ti\n",
    "\n",
    "* For Ti, gill in trial energies with the linearisation energies from LINERGY.OUT and turn off the search.\n",
    "\n",
    "```xml\n",
    "<?xml version=\"1.0\" encoding=\"UTF-8\"?>\n",
    "<spdb xsi:noNamespaceSchemaLocation=\"../../xml/species.xsd\" xmlns:xsi=\"http://www.w3.org/2001/XMLSchema-instance\">\n",
    "  <sp chemicalSymbol=\"Ti\" name=\"titanium\" z=\"-22.0000\" mass=\"87256.20311\">\n",
    "    <muffinTin rmin=\"0.100000E-05\" radius=\"2.0000\" rinf=\"25.7965\" radialmeshPoints=\"600\"/>\n",
    "    <atomicState n=\"1\" l=\"0\" kappa=\"1\" occ=\"2.00000\" core=\"true\"/>\n",
    "    <atomicState n=\"2\" l=\"0\" kappa=\"1\" occ=\"2.00000\" core=\"true\"/>\n",
    "    <atomicState n=\"2\" l=\"1\" kappa=\"1\" occ=\"2.00000\" core=\"true\"/>\n",
    "    <atomicState n=\"2\" l=\"1\" kappa=\"2\" occ=\"4.00000\" core=\"true\"/>\n",
    "    <atomicState n=\"3\" l=\"0\" kappa=\"1\" occ=\"2.00000\" core=\"false\"/>\n",
    "    <atomicState n=\"3\" l=\"1\" kappa=\"1\" occ=\"2.00000\" core=\"false\"/>\n",
    "    <atomicState n=\"3\" l=\"1\" kappa=\"2\" occ=\"4.00000\" core=\"false\"/>\n",
    "    <atomicState n=\"3\" l=\"2\" kappa=\"2\" occ=\"2.00000\" core=\"false\"/>\n",
    "    <atomicState n=\"4\" l=\"0\" kappa=\"1\" occ=\"2.00000\" core=\"false\"/>\n",
    "    <basis>\n",
    "      <default type=\"lapw\" trialEnergy=\"0.1500\" searchE=\"false\"/>\n",
    "\n",
    "      <custom l=\"0\" type=\"lapw\" trialEnergy=\"1.0000\" searchE=\"false\"/>\n",
    "      <lo l=\"0\">\n",
    "        <wf matchingOrder=\"0\" trialEnergy=\"-1.83625\" searchE=\"false\"/>\n",
    "        <wf matchingOrder=\"1\" trialEnergy=\"-1.83625\" searchE=\"false\"/>\n",
    "      </lo>\n",
    "      <lo l=\"0\">\n",
    "        <wf matchingOrder=\"1\" trialEnergy=\"-1.83625\" searchE=\"false\"/>\n",
    "        <wf matchingOrder=\"2\" trialEnergy=\"-1.83625\" searchE=\"false\"/>\n",
    "      </lo>\n",
    "\n",
    "      <custom l=\"1\" type=\"lapw\" trialEnergy=\"-0.9275\" searchE=\"false\"/>\n",
    "      <lo l=\"1\">\n",
    "        <wf matchingOrder=\"0\" trialEnergy=\"-0.9275\" searchE=\"false\"/>\n",
    "        <wf matchingOrder=\"1\" trialEnergy=\"-0.9275\" searchE=\"false\"/>\n",
    "      </lo>\n",
    "      <lo l=\"1\">\n",
    "        <wf matchingOrder=\"1\" trialEnergy=\"-0.9275\" searchE=\"false\"/>\n",
    "        <wf matchingOrder=\"2\" trialEnergy=\"-0.9275\" searchE=\"false\"/>\n",
    "      </lo>\n",
    "\n",
    "      <custom l=\"2\" type=\"lapw\" trialEnergy=\"0.49125\" searchE=\"false\"/>\n",
    "      <lo l=\"2\">\n",
    "        <wf matchingOrder=\"0\" trialEnergy=\"0.49125\" searchE=\"false\"/>\n",
    "        <wf matchingOrder=\"1\" trialEnergy=\"0.49125\" searchE=\"false\"/>\n",
    "      </lo>\n",
    "      <lo l=\"2\">\n",
    "        <wf matchingOrder=\"1\" trialEnergy=\"0.49125\" searchE=\"false\"/>\n",
    "        <wf matchingOrder=\"2\" trialEnergy=\"0.49125\" searchE=\"false\"/>\n",
    "      </lo>\n",
    "\n",
    "      <custom l=\"3\" type=\"lapw\" trialEnergy=\"1.0\" searchE=\"false\"/>\n",
    "      <lo l=\"3\">\n",
    "        <wf matchingOrder=\"0\" trialEnergy=\"1.0\" searchE=\"false\"/>\n",
    "        <wf matchingOrder=\"1\" trialEnergy=\"1.0\" searchE=\"false\"/>\n",
    "      </lo>\n",
    "      <lo l=\"3\">\n",
    "        <wf matchingOrder=\"1\" trialEnergy=\"1.0\" searchE=\"false\"/>\n",
    "        <wf matchingOrder=\"2\" trialEnergy=\"1.0\" searchE=\"false\"/>\n",
    "      </lo>\n",
    "\n",
    "      <custom l=\"4\" type=\"lapw\" trialEnergy=\"1.0\" searchE=\"false\"/>\n",
    "      <lo l=\"4\">\n",
    "        <wf matchingOrder=\"0\" trialEnergy=\"1.0\" searchE=\"false\"/>\n",
    "        <wf matchingOrder=\"1\" trialEnergy=\"1.0\" searchE=\"false\"/>\n",
    "      </lo>\n",
    "      <lo l=\"4\">\n",
    "        <wf matchingOrder=\"1\" trialEnergy=\"1.0\" searchE=\"false\"/>\n",
    "        <wf matchingOrder=\"2\" trialEnergy=\"1.0\" searchE=\"false\"/>\n",
    "      </lo>\n",
    "\n",
    "      <custom l=\"5\" type=\"lapw\" trialEnergy=\"1.0\" searchE=\"false\"/>\n",
    "      <lo l=\"5\">\n",
    "        <wf matchingOrder=\"0\" trialEnergy=\"1.0\" searchE=\"false\"/>\n",
    "        <wf matchingOrder=\"1\" trialEnergy=\"1.0\" searchE=\"false\"/>\n",
    "      </lo>\n",
    "      <lo l=\"5\">\n",
    "        <wf matchingOrder=\"1\" trialEnergy=\"1.0\" searchE=\"false\"/>\n",
    "        <wf matchingOrder=\"2\" trialEnergy=\"1.0\" searchE=\"false\"/>\n",
    "      </lo>\n",
    "\n",
    "      <custom l=\"6\" type=\"lapw\" trialEnergy=\"1.0\" searchE=\"false\"/>\n",
    "      <lo l=\"6\">\n",
    "        <wf matchingOrder=\"0\" trialEnergy=\"1.0\" searchE=\"false\"/>\n",
    "        <wf matchingOrder=\"1\" trialEnergy=\"1.0\" searchE=\"false\"/>\n",
    "      </lo>\n",
    "      <lo l=\"6\">\n",
    "        <wf matchingOrder=\"1\" trialEnergy=\"1.0\" searchE=\"false\"/>\n",
    "        <wf matchingOrder=\"2\" trialEnergy=\"1.0\" searchE=\"false\"/>\n",
    "      </lo>\n",
    "    </basis>\n",
    "  </sp>\n",
    "</spdb>\n",
    "```"
   ],
   "metadata": {
    "collapsed": false,
    "pycharm": {
     "name": "#%% md\n"
    }
   }
  },
  {
   "cell_type": "markdown",
   "source": [
    "This makes the most fractional difference to the total energy, which is what one would hope: `Total energy :     -2006.16368946`\n",
    "Have the LOs and LAPWs as separate functions\n",
    "\n",
    "Start removing Ti basis functions:\n",
    "Total energy: -2006.16368941\n",
    "Band gap: 0.06622897\n",
    "\n",
    "Remove:\n",
    "<custom l=\"6\" type=\"lapw\" trialEnergy=\"1.0\" searchE=\"false\"/>\n",
    "<lo l=\"6\">\n",
    " <wf matchingOrder=\"1\" trialEnergy=\"1.0\" searchE=\"false\"/>\n",
    " <wf matchingOrder=\"2\" trialEnergy=\"1.0\" searchE=\"false\"/>\n",
    "</lo>\n",
    "<lo l=\"6\">\n",
    "   <wf matchingOrder=\"0\" trialEnergy=\"1.0\" searchE=\"false\"/>\n",
    "   <wf matchingOrder=\"1\" trialEnergy=\"1.0\" searchE=\"false\"/>\n",
    "</lo>\n",
    "\n",
    "Total energy: -2006.16368257\n",
    "Band gap: 0.06622947\n",
    "\n",
    "  <custom l=\"5\" type=\"lapw\" trialEnergy=\"1.0\" searchE=\"false\"/>\n",
    "  <lo l=\"5\">\n",
    "    <wf matchingOrder=\"0\" trialEnergy=\"1.0\" searchE=\"false\"/>\n",
    "    <wf matchingOrder=\"1\" trialEnergy=\"1.0\" searchE=\"false\"/>\n",
    "  </lo>\n",
    "  <lo l=\"5\">\n",
    "     <wf matchingOrder=\"1\" trialEnergy=\"1.0\" searchE=\"false\"/>\n",
    "     <wf matchingOrder=\"2\" trialEnergy=\"1.0\" searchE=\"false\"/>\n",
    "   </lo>\n",
    "\n",
    "Total energy: -2006.16366874\n",
    "Band gap: 0.06622966\n",
    "\n",
    "For O (and the initial Ti basis from above)\n",
    "\n",
    "Remove\n",
    "      <custom l=\"5\" type=\"lapw\" trialEnergy=\"1.0\" searchE=\"true\"/>\n",
    "      <lo l=\"5\">\n",
    "        <wf matchingOrder=\"0\" trialEnergy=\"1.0\" searchE=\"true\"/>\n",
    "        <wf matchingOrder=\"1\" trialEnergy=\"1.0\" searchE=\"true\"/>\n",
    "      </lo>\n",
    "\n",
    "      <lo l=\"5\">\n",
    "        <wf matchingOrder=\"1\" trialEnergy=\"1.0\" searchE=\"true\"/>\n",
    "        <wf matchingOrder=\"2\" trialEnergy=\"1.0\" searchE=\"true\"/>\n",
    "      </lo>\n",
    "\n",
    "Total energy: -2006.16368029\n",
    "Band gap: 0.06622928\n",
    "\n",
    "This doesn't really matter. For the GW, one adds l-channels => doing the ground states from scratch up to the l-max specified.\n",
    "I assume the LAPWs always go to l-max = 8, as this is set on input, as the default, and the difference is really just adding in extra LOs\n",
    "OR LAPWs at more specific linearisation energies.\n",
    "\n"
   ],
   "metadata": {
    "collapsed": false,
    "pycharm": {
     "name": "#%% md\n"
    }
   }
  },
  {
   "cell_type": "code",
   "execution_count": 5,
   "outputs": [
    {
     "data": {
      "text/plain": "<Figure size 432x288 with 1 Axes>",
      "image/png": "[encoded data removed]"
     },
     "metadata": {
      "needs_background": "light"
     },
     "output_type": "display_data"
    },
    {
     "data": {
      "text/plain": "<Figure size 432x288 with 1 Axes>",
      "image/png": "[encoded data removed]"
     },
     "metadata": {
      "needs_background": "light"
     },
     "output_type": "display_data"
    }
   ],
   "source": [
    "import matplotlib.pyplot as plt\n",
    "import numpy as np\n",
    "\n",
    "\n",
    "ha_to_ev = 27.2114\n",
    "plt.rcParams['axes.formatter.useoffset'] = False\n",
    "\n",
    "\n",
    "initial_total_energy = -2006.16368941\n",
    "initial_gap = 0.06622897\n",
    "\n",
    "tio2_total_energy = [initial_total_energy, -2006.16368257, -2006.16366874]\n",
    "tio2_gap = [initial_gap, 0.06622947, 0.06622966]\n",
    "\n",
    "indices = np.arange(0, 3)\n",
    "plt.plot(indices, [x * ha_to_ev for x in tio2_total_energy])\n",
    "plt.show()\n",
    "\n",
    "plt.plot(indices, [x * ha_to_ev for x in tio2_gap])\n",
    "plt.show()\n",
    "\n"
   ],
   "metadata": {
    "collapsed": false,
    "pycharm": {
     "name": "#%%\n"
    }
   }
  },
  {
   "cell_type": "markdown",
   "source": [
    "Just keep both up to l_max = 5"
   ],
   "metadata": {
    "collapsed": false,
    "pycharm": {
     "name": "#%% md\n"
    }
   }
  },
  {
   "cell_type": "code",
   "execution_count": 10,
   "outputs": [
    {
     "data": {
      "text/plain": "<Figure size 432x288 with 1 Axes>",
      "image/png": "[encoded data removed]"
     },
     "metadata": {
      "needs_background": "light"
     },
     "output_type": "display_data"
    },
    {
     "data": {
      "text/plain": "<Figure size 432x288 with 1 Axes>",
      "image/png": "[encoded data removed]"
     },
     "metadata": {
      "needs_background": "light"
     },
     "output_type": "display_data"
    }
   ],
   "source": [
    "# Convergence w.r.t rgkmax\n",
    "# Using these LOs, defined explicitly up to l_max\n",
    "# So one really can leave the LAPWs - only checking effect of the LOs on the ground state\n",
    "# In fact, removing the LAPWs shouldn't matter as the default fills in the place\n",
    "\n",
    "# Note, convergence w.r.t. LOs for the ground state is largely pointless as one will repeat\n",
    "# for GW anyway. Optimal MTs and rgkmax convergence, are however important\n",
    "\n",
    "# Could nopt converge rgkmax = 10 with these settings.\n",
    "rgkmax = [6, 7, 8, 9]\n",
    "plt.xlabel(\"rgkmax (a.u.)\")\n",
    "gmaxvr = [18.0, 21.0, 24.0, 27.0]\n",
    "\n",
    "total_energy = [-2006.12579332, -2006.15704187, -2006.16368257, -2006.16638898]\n",
    "est_fundamental_gap = [0.06665332, 0.06632942, 0.06622947, 0.06617667]\n",
    "\n",
    "plt.ylabel(\"Total Energy (eV)\")\n",
    "plt.plot(rgkmax, [x * ha_to_ev for x in total_energy])\n",
    "plt.show()\n",
    "\n",
    "plt.ylabel(\"Est. Fundamental Gap (eV)\")\n",
    "plt.plot(rgkmax, [x * ha_to_ev for x in est_fundamental_gap])\n",
    "plt.show()\n",
    "\n",
    "#Reduce gmaxvr once things are looking good"
   ],
   "metadata": {
    "collapsed": false,
    "pycharm": {
     "name": "#%%\n"
    }
   }
  },
  {
   "cell_type": "code",
   "execution_count": 8,
   "outputs": [
    {
     "name": "stdout",
     "output_type": "stream",
     "text": [
      "GXMGZRAZ,XR,MA\n",
      "<bandstructure>\n",
      "    <plot1d>\n",
      "      <path steps=\"100\">\n",
      "        <point coord=\"0.0 0.0 0.0\" label=\"G\" />\n",
      "        <point coord=\"0.0 0.5 0.0\" label=\"X\" />\n",
      "        <point coord=\"0.5 0.5 0.0\" label=\"M\" />\n",
      "        <point coord=\"0.0 0.0 0.0\" label=\"G\" />\n",
      "        <point coord=\"0.0 0.0 0.5\" label=\"Z\" />\n",
      "        <point coord=\"0.0 0.5 0.5\" label=\"R\" />\n",
      "        <point coord=\"0.5 0.5 0.5\" label=\"A\" />\n",
      "        <point coord=\"0.0 0.0 0.5\" label=\"Z\" breakafter=\"true\"/>\n",
      "        <point coord=\"0.0 0.5 0.0\" label=\"X\" />\n",
      "        <point coord=\"0.0 0.5 0.5\" label=\"R\" breakafter=\"true\"/>\n",
      "        <point coord=\"0.5 0.5 0.0\" label=\"M\" />\n",
      "        <point coord=\"0.5 0.5 0.5\" label=\"A\" />\n",
      "     </path>\n",
      "   </plot1d>\n",
      "</bandstructure>\n",
      "    \n"
     ]
    }
   ],
   "source": [
    "# Band structure path\n",
    "from src.parsers import get_standardised_band_path, exciting_band_path_xml\n",
    "from src.materials import TiO2Rutile\n",
    "\n",
    "bohr_to_angstrom = 0.529177249\n",
    "lattice = TiO2Rutile.lattice * bohr_to_angstrom\n",
    "\n",
    "symbolic_path, high_symmetry_points = get_standardised_band_path(lattice)\n",
    "band_str = exciting_band_path_xml(symbolic_path, high_symmetry_points)\n",
    "\n",
    "print(symbolic_path)\n",
    "print(band_str)"
   ],
   "metadata": {
    "collapsed": false,
    "pycharm": {
     "name": "#%%\n"
    }
   }
  },
  {
   "cell_type": "code",
   "execution_count": null,
   "outputs": [],
   "source": [
    "# Band structure plot using rgkmax = 9 (to see if things look reasonable)\n",
    "from src.parsers import parse_bandstructure_xml\n",
    "\n",
    "k_vector, band_energies = parse_bandstructure_xml('')"
   ],
   "metadata": {
    "collapsed": false,
    "pycharm": {
     "name": "#%%\n"
    }
   }
  }
 ],
 "metadata": {
  "kernelspec": {
   "display_name": "Python 3",
   "language": "python",
   "name": "python3"
  },
  "language_info": {
   "codemirror_mode": {
    "name": "ipython",
    "version": 2
   },
   "file_extension": ".py",
   "mimetype": "text/x-python",
   "name": "python",
   "nbconvert_exporter": "python",
   "pygments_lexer": "ipython2",
   "version": "2.7.6"
  }
 },
 "nbformat": 4,
 "nbformat_minor": 0
}