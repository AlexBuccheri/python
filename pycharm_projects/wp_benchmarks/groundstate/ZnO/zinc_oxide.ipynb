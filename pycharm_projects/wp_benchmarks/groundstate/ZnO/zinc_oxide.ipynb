{
 "cells": [
  {
   "cell_type": "markdown",
   "metadata": {
    "collapsed": true,
    "pycharm": {
     "name": "#%% md\n"
    }
   },
   "source": [
    "# Ground State Zinc Oxide"
   ]
  },
  {
   "cell_type": "code",
   "execution_count": 1,
   "outputs": [
    {
     "name": "stdout",
     "output_type": "stream",
     "text": [
      "Minimum bond length between atomic numbers (8, 8): 3.2077121269530924\n",
      "Minimum bond length between atomic numbers (8, 30): 1.9738161289053884\n",
      "For each bond, compute the MT radius associated with the element with the smallest MT radius. \n",
      "Do this for each bond, and choose the minimum.\n",
      "[1.6039, 0.8868]\n",
      "Smallest muffin tin radius for element 8 is 0.79812, scaled by 0.9\n",
      "Use this to determine the MT radii for all other elements in the system, with optimal ratio \n",
      "determined by tabulated rkgmax ratios\n",
      "Atomic Number 8, MT radius 0.79812, sum of MT radii 1.59624, min_bond_length 3.2077121269530924\n",
      "Atomic Number 30, MT radius 0.9783467781935792, sum of MT radii 1.7764667781935792, min_bond_length 1.9738161289053884\n"
     ]
    }
   ],
   "source": [
    "# Give some estimate for MT radii, maintaining a consistent ratio between T and O\n",
    "from src.materials import ZnOWurzite\n",
    "from src.optimal_muffin_tins import main\n",
    "\n",
    "# ZnO in angstrom, implying these bond lengths are too\n",
    "main(ZnOWurzite, scaling_factor=0.9)"
   ],
   "metadata": {
    "collapsed": false,
    "pycharm": {
     "name": "#%%\n"
    }
   }
  },
  {
   "cell_type": "markdown",
   "source": [
    "#### MT Selection Summary\n",
    "\n",
    "Smallest muffin tin radius in the system is for element 8: 0.79812 (angstrom, scaling factor = 0.9)\n",
    "Atomic Number 30, MT radius 0.9783467781935792 (angstrom scaling factor = 0.9)\n",
    "\n",
    "So in Bohr, try MT_O = 1.50 and MT_Zn = 1.85\n",
    "\n",
    "Dima's paper. DOI: 10.1103/PhysRevB.94.035118\n",
    "His MTs are: 1.6 angstrom for O and Zn.\n",
    "In the case of binary materials, we use equal RMT for both species."
   ],
   "metadata": {
    "collapsed": false,
    "pycharm": {
     "name": "#%% md\n"
    }
   }
  },
  {
   "cell_type": "code",
   "execution_count": null,
   "outputs": [],
   "source": [
    "\n"
   ],
   "metadata": {
    "collapsed": false,
    "pycharm": {
     "name": "#%%\n"
    }
   }
  },
  {
   "cell_type": "code",
   "execution_count": 11,
   "outputs": [
    {
     "name": "stdout",
     "output_type": "stream",
     "text": [
      "HEX(a=3.2494, c=5.2038)\n",
      "{'array': array([[ 3.2494    ,  0.        ,  0.        ],\n",
      "       [-1.6247    ,  2.81406295,  0.        ],\n",
      "       [ 0.        ,  0.        ,  5.2038    ]])}\n"
     ]
    }
   ],
   "source": [
    "# Lattice vectors from lattice constants\n",
    "import ase\n",
    "import numpy as np\n",
    "\n",
    "# In angstrom\n",
    "# This looks right, but one should multiply through by -1\n",
    "lattice_returned_by_pymatgen = np.array([[-1.624700, -2.814063, 0.000000], [-1.624700, 2.814063, 0.000000], [0.000000, 0.000000, -5.203800]])\n",
    "\n",
    "# Straight from the cif - angstrom and degrees\n",
    "cell = ase.geometry.cell.Cell.fromcellpar([3.249400, 3.249400, 5.203800, 90, 90, 120])\n",
    "\n",
    "# http://aflowlib.org/prototype-encyclopedia/trigonal_lattice.html#lattice10\n",
    "print(cell.get_bravais_lattice())\n",
    "print(vars(cell))\n",
    "\n",
    "# In angstrom ... this really doesn't look right, despite ASE saying it's a hexagonal lattice\n",
    "lattice_returned_by_ase = np.array([[3.2494,  0.,  0.], [-1.6247,  2.81406295,  0. ], [0.,  0.,  5.2038]])\n",
    "\n",
    "# zno\n",
    "#  pymatgen lattice vectors and positions - I assume they are consistent, at least.\n",
    "# zno_alt\n",
    "#  Positions from the cif, but unsure what to set the lattice vectors as.\n"
   ],
   "metadata": {
    "collapsed": false,
    "pycharm": {
     "name": "#%%\n"
    }
   }
  },
  {
   "cell_type": "code",
   "execution_count": null,
   "outputs": [],
   "source": [],
   "metadata": {
    "collapsed": false,
    "pycharm": {
     "name": "#%%\n"
    }
   }
  }
 ],
 "metadata": {
  "kernelspec": {
   "display_name": "Python 3",
   "language": "python",
   "name": "python3"
  },
  "language_info": {
   "codemirror_mode": {
    "name": "ipython",
    "version": 2
   },
   "file_extension": ".py",
   "mimetype": "text/x-python",
   "name": "python",
   "nbconvert_exporter": "python",
   "pygments_lexer": "ipython2",
   "version": "2.7.6"
  }
 },
 "nbformat": 4,
 "nbformat_minor": 0
}